{
 "cells": [
  {
   "cell_type": "markdown",
   "id": "9fc1d128-8c32-4cfa-abd5-bd0767b07a3e",
   "metadata": {},
   "source": [
    "A database is a structured collection of data that is stored and organized for efficient retrieval and manipulation. Databases are used to manage, store, and access data in a systematic and structured manner. They are a fundamental component of modern software and information systems, providing a means to store and manage data for a wide range of applications.\n",
    "\n",
    "Databases are differentiated based on their data models and structures. There are two primary types of databases: SQL (relational) databases and NoSQL databases. Here's a differentiation between the two:\n",
    "\n",
    "**SQL (Relational) Databases:**\n",
    "\n",
    "1. **Data Model:** SQL databases use a structured data model based on tables, where data is organized into rows and columns. This is known as the relational model.\n",
    "\n",
    "2. **Schema:** SQL databases have a fixed schema, which defines the structure and data types of the tables. Any changes to the schema typically require careful planning and may involve downtime.\n",
    "\n",
    "3. **Query Language:** SQL databases use the SQL (Structured Query Language) for data retrieval, modification, and management. SQL is a powerful and standardized language for working with structured data.\n",
    "\n",
    "4. **ACID Properties:** SQL databases are known for their support of ACID (Atomicity, Consistency, Isolation, Durability) properties. These properties ensure data consistency and integrity, making SQL databases suitable for applications where data reliability is critical.\n",
    "\n",
    "5. **Transactions:** SQL databases support transactions, allowing for multiple operations to be grouped together and executed as a single unit of work. Transactions ensure data consistency and integrity.\n",
    "\n",
    "6. **Scalability:** SQL databases are typically scaled vertically, which means that you add more resources (e.g., CPU, memory) to a single server to handle increased workloads. This can have limitations in terms of scalability.\n",
    "\n",
    "7. **Use Cases:** SQL databases are well-suited for applications with complex queries, well-defined schemas, and where data consistency and integrity are essential. Examples include financial systems, e-commerce platforms, and traditional relational data scenarios.\n",
    "\n",
    "**NoSQL Databases:**\n",
    "\n",
    "1. **Data Model:** NoSQL databases use various data models, including document-oriented, key-value, column-family, and graph models. These models are often more flexible and schema-less than SQL databases.\n",
    "\n",
    "2. **Schema:** NoSQL databases are schema-less or have a flexible schema, allowing you to store data without a predefined structure. This flexibility makes them ideal for dynamic and evolving data requirements.\n",
    "\n",
    "3. **Query Language:** NoSQL databases have their query languages specific to the data model used. Common NoSQL databases include MongoDB (document-oriented), Redis (key-value), Cassandra (column-family), and Neo4j (graph), each with its query language.\n",
    "\n",
    "4. **BASE Properties:** NoSQL databases are associated with BASE (Basically Available, Soft state, Eventually consistent) properties. This means they prioritize high availability and partition tolerance over strict consistency.\n",
    "\n",
    "5. **Scalability:** NoSQL databases are typically designed for horizontal scalability, allowing you to add more servers to handle increasing workloads. They are well-suited for distributed and high-traffic systems.\n",
    "\n",
    "6. **Use Cases:** NoSQL databases are ideal for applications with dynamic or unstructured data, high scalability requirements, and where data agility and quick development are essential. Examples include social media platforms, content management systems, and real-time analytics systems.\n",
    "\n",
    "In summary, SQL and NoSQL databases differ in their data models, schema, query languages, consistency properties, scalability, and use cases. The choice between SQL and NoSQL databases should be based on the specific requirements and characteristics of the application you are building."
   ]
  },
  {
   "cell_type": "code",
   "execution_count": null,
   "id": "290cf6cf-c8e2-4c46-88b6-4ed657939928",
   "metadata": {},
   "outputs": [],
   "source": []
  },
  {
   "cell_type": "markdown",
   "id": "b944ad4d-20ab-46cf-84b9-a2673ac55c35",
   "metadata": {},
   "source": [
    "DDL (Data Definition Language) is a subset of SQL (Structured Query Language) used for defining, managing, and modifying the structure of a database. DDL statements allow you to create, modify, and delete database objects such as tables, indexes, constraints, and schemas. DDL statements are essential for database administrators and database developers to define and maintain the database's structure."
   ]
  },
  {
   "cell_type": "markdown",
   "id": "42d6cfe2-43e4-4690-8a79-cb87006ba7df",
   "metadata": {},
   "source": [
    "CREATE:The CREATE statement is used to create new database objects such as tables, indexes, and views.\n",
    "Example: Creating a new table named \"employees\" with columns for employee information."
   ]
  },
  {
   "cell_type": "markdown",
   "id": "dc791bce-eb67-4085-aaff-2ae3239df7fd",
   "metadata": {},
   "source": [
    "CREATE TABLE employees (\n",
    "    employee_id INT PRIMARY KEY,\n",
    "     first_name VARCHAR(50),\n",
    "    last_name VARCHAR(50),\n",
    "        hire_date DATE\n",
    ");"
   ]
  },
  {
   "cell_type": "markdown",
   "id": "72fb64fe-fe95-44a1-a6cc-760aeccd56fc",
   "metadata": {},
   "source": [
    "DROP:\n",
    "\n",
    "The DROP statement is used to delete database objects, such as tables, views, indexes, or even entire databases.\n",
    "Example: Dropping the \"employees\" table to remove it from the database.\n",
    "sql\n",
    "\n",
    "eg.\n",
    "DROP TABLE employees;"
   ]
  },
  {
   "cell_type": "markdown",
   "id": "213a4173-612f-481e-8d99-3d7e1156977f",
   "metadata": {},
   "source": [
    "ALTER:\n",
    "\n",
    "The ALTER statement is used to modify existing database objects. You can add, modify, or delete columns, constraints, or other properties of a table.\n",
    "Example: Adding a new column \"email\" to the \"employees\" table.\n",
    "\n",
    "eg.\n",
    "ALTER TABLE employees\n",
    "ADD email VARCHAR(100);\n"
   ]
  },
  {
   "cell_type": "markdown",
   "id": "2da4507e-6c90-4a8a-8316-891d8a53647e",
   "metadata": {},
   "source": [
    "TRUNCATE:\n",
    "\n",
    "The TRUNCATE statement is used to remove all data from a table, but it retains the table structure. It is faster and less resource-intensive than the DELETE statement.\n",
    "Example: Truncating the \"employees\" table to remove all employee records.\n",
    "\n",
    "eg.\n",
    "TRUNCATE TABLE employees;\n"
   ]
  },
  {
   "cell_type": "markdown",
   "id": "1c5fc924-38bc-4007-a555-11e146f5430b",
   "metadata": {},
   "source": [
    "These DDL statements are essential for defining and maintaining the structure of a database. They allow you to create and modify tables, indexes, and other database objects, as well as manage the schema. It's important to use them carefully, especially when making changes to a production database, as they can affect the integrity and consistency of the data."
   ]
  },
  {
   "cell_type": "code",
   "execution_count": null,
   "id": "172be251-3a07-46b3-b0c6-aaa5fdba771a",
   "metadata": {},
   "outputs": [],
   "source": []
  },
  {
   "cell_type": "markdown",
   "id": "738c5b3d-c7f9-40e2-a0a6-4cc74b1459b5",
   "metadata": {},
   "source": [
    "DML (Data Manipulation Language) is a subset of SQL (Structured Query Language) used for interacting with and manipulating data stored in a relational database. DML statements allow you to insert, update, and delete data within database tables. These statements are essential for performing data manipulation operations in SQL.\n",
    "\n",
    "Here are explanations and examples of common DML statements:\n",
    "\n",
    "1. **INSERT:**\n",
    "   - The `INSERT` statement is used to add new rows or records into a database table.\n",
    "   - Example: Inserting a new employee record into the \"employees\" table.\n",
    "\n",
    "   ```sql\n",
    "   INSERT INTO employees (employee_id, first_name, last_name, hire_date)\n",
    "   VALUES (101, 'John', 'Doe', '2023-10-01');\n",
    "   ```\n",
    "\n",
    "   This statement inserts a new employee with an `employee_id` of 101, a first name of \"John,\" a last name of \"Doe,\" and a hire date of October 1, 2023, into the \"employees\" table.\n",
    "\n",
    "2. **UPDATE:**\n",
    "   - The `UPDATE` statement is used to modify existing data within a table.\n",
    "   - Example: Updating the hire date for an employee with `employee_id` 101.\n",
    "\n",
    "   ```sql\n",
    "   UPDATE employees\n",
    "   SET hire_date = '2023-11-15'\n",
    "   WHERE employee_id = 101;\n",
    "   ```\n",
    "\n",
    "   This statement changes the hire date for the employee with `employee_id` 101 to November 15, 2023.\n",
    "\n",
    "3. **DELETE:**\n",
    "   - The `DELETE` statement is used to remove one or more rows from a table.\n",
    "   - Example: Deleting an employee with `employee_id` 101 from the \"employees\" table.\n",
    "\n",
    "   ```sql\n",
    "   DELETE FROM employees\n",
    "   WHERE employee_id = 101;\n",
    "   ```\n",
    "\n",
    "   This statement removes the employee with `employee_id` 101 from the \"employees\" table.\n",
    "\n",
    "DML statements are fundamental for interacting with the data in a relational database. They allow you to insert new data, update existing data, and delete unwanted data, thereby maintaining and managing the contents of database tables. Proper use of these statements is essential for data integrity and consistency within a database."
   ]
  },
  {
   "cell_type": "markdown",
   "id": "6590b921-4608-4278-a83f-f4b4732719b9",
   "metadata": {},
   "source": []
  },
  {
   "cell_type": "markdown",
   "id": "fba9eec3-b03b-4a73-92d7-89ce69760469",
   "metadata": {},
   "source": [
    "DQL (Data Query Language) is a subset of SQL (Structured Query Language) used for querying and retrieving data from a relational database. DQL consists primarily of the `SELECT` statement, which allows you to specify which data you want to retrieve from one or more database tables. The `SELECT` statement is a powerful and flexible tool for retrieving specific data that meets your criteria.\n",
    "\n",
    "Here's an explanation and an example of the `SELECT` statement in SQL:\n",
    "\n",
    "**SELECT:**\n",
    "- The `SELECT` statement is used to query and retrieve data from one or more tables in a database.\n",
    "- Example: Retrieving a list of employees from the \"employees\" table.\n",
    "\n",
    "```sql\n",
    "SELECT first_name, last_name\n",
    "FROM employees\n",
    "```\n",
    "\n",
    "In this example:\n",
    "\n",
    "- `SELECT` specifies that we want to retrieve data.\n",
    "- `first_name, last_name` indicates the columns we want to retrieve from the table. You can specify one or more columns, separating them with commas.\n",
    "- `FROM employees` specifies the table from which we want to retrieve data, in this case, the \"employees\" table.\n",
    "\n",
    "This `SELECT` statement will retrieve the first and last names of all employees from the \"employees\" table.\n",
    "\n",
    "You can use the `SELECT` statement in conjunction with various clauses and keywords to filter, sort, and manipulate data, including:\n",
    "\n",
    "- `WHERE` clause for specifying conditions that filter the rows to be retrieved.\n",
    "- `ORDER BY` clause for specifying the sorting order of the retrieved data.\n",
    "- `GROUP BY` clause for grouping data based on certain columns.\n",
    "- `HAVING` clause for filtering grouped data.\n",
    "- Aggregate functions (e.g., `COUNT`, `SUM`, `AVG`, `MAX`, `MIN`) for calculating summary statistics.\n",
    "- Joins to retrieve data from multiple tables.\n",
    "\n",
    "The `SELECT` statement is a fundamental tool for extracting information from a database and is used extensively in various database applications, reporting, and data analysis tasks."
   ]
  },
  {
   "cell_type": "code",
   "execution_count": null,
   "id": "744eaf72-9973-41bb-9e99-f2eba8c05275",
   "metadata": {},
   "outputs": [],
   "source": []
  },
  {
   "cell_type": "markdown",
   "id": "49e17e6b-214c-4fc0-aacb-8aa3814c8ed4",
   "metadata": {},
   "source": [
    "**Primary Key:**\n",
    "\n",
    "A primary key is a special type of constraint in a relational database that serves two primary purposes:\n",
    "\n",
    "1. **Uniqueness:** It enforces the uniqueness of values within a specific column or set of columns in a table. This means that no two rows in the table can have the same value in the primary key column(s). It ensures that each row is uniquely identifiable.\n",
    "\n",
    "2. **Identification:** It provides a way to identify each record or row in the table uniquely. This is essential for data integrity, as it ensures that you can access, update, and delete specific rows without ambiguity.\n",
    "\n",
    "A primary key is typically applied to one or more columns in a table, and it can consist of a single column or a combination of columns. Here's an example:\n",
    "\n",
    "```sql\n",
    "CREATE TABLE employees (\n",
    "    employee_id INT PRIMARY KEY,\n",
    "    first_name VARCHAR(50),\n",
    "    last_name VARCHAR(50),\n",
    "    hire_date DATE\n",
    ");\n",
    "```\n",
    "\n",
    "In this example, the `employee_id` column is defined as the primary key. This ensures that each employee has a unique identifier, and it's used to reference specific employees in the table.\n",
    "\n",
    "**Foreign Key:**\n",
    "\n",
    "A foreign key is another type of constraint used in relational databases to establish a relationship between two tables. The foreign key in one table references the primary key in another table. The foreign key constraint enforces referential integrity, ensuring that the relationships between tables are maintained.\n",
    "\n",
    "Here are the key characteristics of foreign keys:\n",
    "\n",
    "1. **Referential Integrity:** A foreign key ensures that the values in the referencing column(s) (the foreign key) match values in the referenced column(s) (the primary key) of another table. This helps maintain data consistency and prevents the creation of \"orphaned\" records.\n",
    "\n",
    "2. **Relationships:** Foreign keys define relationships between tables, allowing you to model complex data structures and establish connections between related data.\n",
    "\n",
    "3. **Cascading Actions:** Foreign keys can specify what actions should be taken when referenced rows in the parent table are updated or deleted. Common actions include cascading updates or deletions to child rows, setting null values, or restricting updates and deletions if dependent rows exist.\n",
    "\n",
    "Here's an example of a foreign key:\n",
    "\n",
    "```sql\n",
    "CREATE TABLE orders (\n",
    "    order_id INT PRIMARY KEY,\n",
    "    customer_id INT,\n",
    "    order_date DATE,\n",
    "    -- Other order-related columns\n",
    "    FOREIGN KEY (customer_id) REFERENCES customers(customer_id)\n",
    ");\n",
    "```\n",
    "\n",
    "In this example, the `customer_id` column in the \"orders\" table is defined as a foreign key, and it references the `customer_id` column in the \"customers\" table. This establishes a relationship between the \"orders\" and \"customers\" tables, ensuring that orders are associated with valid customer records. The foreign key enforces referential integrity by preventing the insertion of orders with non-existent customer IDs and providing a connection between orders and customers.\n",
    "\n",
    "In summary, a primary key ensures uniqueness and identification of rows in a table, while a foreign key establishes relationships between tables and enforces referential integrity. Together, they are fundamental for maintaining data consistency and integrity in relational databases."
   ]
  },
  {
   "cell_type": "code",
   "execution_count": null,
   "id": "81b78c59-491f-4937-8c21-a93f9376eaca",
   "metadata": {},
   "outputs": [],
   "source": []
  },
  {
   "cell_type": "markdown",
   "id": "2c4e61bf-0fec-418c-af74-49eeca302595",
   "metadata": {},
   "source": [
    "To connect MySQL to Python, you can use the mysql-connector-python library, which provides a Python interface for interacting with MySQL databases. You can install this library using pip"
   ]
  },
  {
   "cell_type": "code",
   "execution_count": 2,
   "id": "2e5e25ea-f1b9-4314-b8be-6e3317bea3f3",
   "metadata": {},
   "outputs": [
    {
     "name": "stdout",
     "output_type": "stream",
     "text": [
      "Collecting mysql-connector-python\n",
      "  Downloading mysql_connector_python-8.1.0-cp310-cp310-manylinux_2_17_x86_64.whl (27.5 MB)\n",
      "\u001b[2K     \u001b[90m━━━━━━━━━━━━━━━━━━━━━━━━━━━━━━━━━━━━━━━━\u001b[0m \u001b[32m27.5/27.5 MB\u001b[0m \u001b[31m44.4 MB/s\u001b[0m eta \u001b[36m0:00:00\u001b[0m00:01\u001b[0m00:01\u001b[0m\n",
      "\u001b[?25hRequirement already satisfied: protobuf<=4.21.12,>=4.21.1 in /opt/conda/lib/python3.10/site-packages (from mysql-connector-python) (4.21.11)\n",
      "Installing collected packages: mysql-connector-python\n",
      "Successfully installed mysql-connector-python-8.1.0\n",
      "Note: you may need to restart the kernel to use updated packages.\n"
     ]
    }
   ],
   "source": [
    "pip install mysql-connector-python\n"
   ]
  },
  {
   "cell_type": "markdown",
   "id": "58167ca3-0cbc-4116-82ad-01fb570893d1",
   "metadata": {},
   "source": [
    "Here's a Python code example that demonstrates how to connect to a MySQL database, create a cursor, and execute SQL queries using the cursor() and execute() methods:"
   ]
  },
  {
   "cell_type": "code",
   "execution_count": 3,
   "id": "927d2cb8-d132-413a-9729-8d3266fa1271",
   "metadata": {},
   "outputs": [
    {
     "ename": "DatabaseError",
     "evalue": "2005 (HY000): Unknown MySQL server host 'your_host' (-3)",
     "output_type": "error",
     "traceback": [
      "\u001b[0;31m---------------------------------------------------------------------------\u001b[0m",
      "\u001b[0;31mMySQLInterfaceError\u001b[0m                       Traceback (most recent call last)",
      "File \u001b[0;32m/opt/conda/lib/python3.10/site-packages/mysql/connector/connection_cext.py:302\u001b[0m, in \u001b[0;36mCMySQLConnection._open_connection\u001b[0;34m(self)\u001b[0m\n\u001b[1;32m    301\u001b[0m \u001b[38;5;28;01mtry\u001b[39;00m:\n\u001b[0;32m--> 302\u001b[0m     \u001b[38;5;28;43mself\u001b[39;49m\u001b[38;5;241;43m.\u001b[39;49m\u001b[43m_cmysql\u001b[49m\u001b[38;5;241;43m.\u001b[39;49m\u001b[43mconnect\u001b[49m\u001b[43m(\u001b[49m\u001b[38;5;241;43m*\u001b[39;49m\u001b[38;5;241;43m*\u001b[39;49m\u001b[43mcnx_kwargs\u001b[49m\u001b[43m)\u001b[49m\n\u001b[1;32m    303\u001b[0m     \u001b[38;5;28mself\u001b[39m\u001b[38;5;241m.\u001b[39m_cmysql\u001b[38;5;241m.\u001b[39mconverter_str_fallback \u001b[38;5;241m=\u001b[39m \u001b[38;5;28mself\u001b[39m\u001b[38;5;241m.\u001b[39m_converter_str_fallback\n",
      "\u001b[0;31mMySQLInterfaceError\u001b[0m: Unknown MySQL server host 'your_host' (-3)",
      "\nThe above exception was the direct cause of the following exception:\n",
      "\u001b[0;31mDatabaseError\u001b[0m                             Traceback (most recent call last)",
      "Cell \u001b[0;32mIn[3], line 4\u001b[0m\n\u001b[1;32m      1\u001b[0m \u001b[38;5;28;01mimport\u001b[39;00m \u001b[38;5;21;01mmysql\u001b[39;00m\u001b[38;5;21;01m.\u001b[39;00m\u001b[38;5;21;01mconnector\u001b[39;00m\n\u001b[1;32m      3\u001b[0m \u001b[38;5;66;03m# Establish a connection to the MySQL server\u001b[39;00m\n\u001b[0;32m----> 4\u001b[0m conn \u001b[38;5;241m=\u001b[39m \u001b[43mmysql\u001b[49m\u001b[38;5;241;43m.\u001b[39;49m\u001b[43mconnector\u001b[49m\u001b[38;5;241;43m.\u001b[39;49m\u001b[43mconnect\u001b[49m\u001b[43m(\u001b[49m\n\u001b[1;32m      5\u001b[0m \u001b[43m    \u001b[49m\u001b[43mhost\u001b[49m\u001b[38;5;241;43m=\u001b[39;49m\u001b[38;5;124;43m\"\u001b[39;49m\u001b[38;5;124;43myour_host\u001b[39;49m\u001b[38;5;124;43m\"\u001b[39;49m\u001b[43m,\u001b[49m\n\u001b[1;32m      6\u001b[0m \u001b[43m    \u001b[49m\u001b[43muser\u001b[49m\u001b[38;5;241;43m=\u001b[39;49m\u001b[38;5;124;43m\"\u001b[39;49m\u001b[38;5;124;43myour_username\u001b[39;49m\u001b[38;5;124;43m\"\u001b[39;49m\u001b[43m,\u001b[49m\n\u001b[1;32m      7\u001b[0m \u001b[43m    \u001b[49m\u001b[43mpassword\u001b[49m\u001b[38;5;241;43m=\u001b[39;49m\u001b[38;5;124;43m\"\u001b[39;49m\u001b[38;5;124;43myour_password\u001b[39;49m\u001b[38;5;124;43m\"\u001b[39;49m\u001b[43m,\u001b[49m\n\u001b[1;32m      8\u001b[0m \u001b[43m    \u001b[49m\u001b[43mdatabase\u001b[49m\u001b[38;5;241;43m=\u001b[39;49m\u001b[38;5;124;43m\"\u001b[39;49m\u001b[38;5;124;43myour_database\u001b[39;49m\u001b[38;5;124;43m\"\u001b[39;49m\n\u001b[1;32m      9\u001b[0m \u001b[43m)\u001b[49m\n\u001b[1;32m     11\u001b[0m \u001b[38;5;66;03m# Create a cursor object to interact with the database\u001b[39;00m\n\u001b[1;32m     12\u001b[0m cursor \u001b[38;5;241m=\u001b[39m conn\u001b[38;5;241m.\u001b[39mcursor()\n",
      "File \u001b[0;32m/opt/conda/lib/python3.10/site-packages/mysql/connector/pooling.py:293\u001b[0m, in \u001b[0;36mconnect\u001b[0;34m(*args, **kwargs)\u001b[0m\n\u001b[1;32m    290\u001b[0m         \u001b[38;5;28;01mraise\u001b[39;00m \u001b[38;5;167;01mImportError\u001b[39;00m(ERROR_NO_CEXT)\n\u001b[1;32m    292\u001b[0m \u001b[38;5;28;01mif\u001b[39;00m CMySQLConnection \u001b[38;5;129;01mand\u001b[39;00m \u001b[38;5;129;01mnot\u001b[39;00m use_pure:\n\u001b[0;32m--> 293\u001b[0m     \u001b[38;5;28;01mreturn\u001b[39;00m \u001b[43mCMySQLConnection\u001b[49m\u001b[43m(\u001b[49m\u001b[38;5;241;43m*\u001b[39;49m\u001b[43margs\u001b[49m\u001b[43m,\u001b[49m\u001b[43m \u001b[49m\u001b[38;5;241;43m*\u001b[39;49m\u001b[38;5;241;43m*\u001b[39;49m\u001b[43mkwargs\u001b[49m\u001b[43m)\u001b[49m\n\u001b[1;32m    294\u001b[0m \u001b[38;5;28;01mreturn\u001b[39;00m MySQLConnection(\u001b[38;5;241m*\u001b[39margs, \u001b[38;5;241m*\u001b[39m\u001b[38;5;241m*\u001b[39mkwargs)\n",
      "File \u001b[0;32m/opt/conda/lib/python3.10/site-packages/mysql/connector/connection_cext.py:128\u001b[0m, in \u001b[0;36mCMySQLConnection.__init__\u001b[0;34m(self, **kwargs)\u001b[0m\n\u001b[1;32m    126\u001b[0m \u001b[38;5;28;01mif\u001b[39;00m kwargs:\n\u001b[1;32m    127\u001b[0m     \u001b[38;5;28;01mtry\u001b[39;00m:\n\u001b[0;32m--> 128\u001b[0m         \u001b[38;5;28;43mself\u001b[39;49m\u001b[38;5;241;43m.\u001b[39;49m\u001b[43mconnect\u001b[49m\u001b[43m(\u001b[49m\u001b[38;5;241;43m*\u001b[39;49m\u001b[38;5;241;43m*\u001b[39;49m\u001b[43mkwargs\u001b[49m\u001b[43m)\u001b[49m\n\u001b[1;32m    129\u001b[0m     \u001b[38;5;28;01mexcept\u001b[39;00m \u001b[38;5;167;01mException\u001b[39;00m:\n\u001b[1;32m    130\u001b[0m         \u001b[38;5;28mself\u001b[39m\u001b[38;5;241m.\u001b[39mclose()\n",
      "File \u001b[0;32m/opt/conda/lib/python3.10/site-packages/mysql/connector/abstracts.py:1217\u001b[0m, in \u001b[0;36mMySQLConnectionAbstract.connect\u001b[0;34m(self, **kwargs)\u001b[0m\n\u001b[1;32m   1214\u001b[0m     \u001b[38;5;28mself\u001b[39m\u001b[38;5;241m.\u001b[39mconfig(\u001b[38;5;241m*\u001b[39m\u001b[38;5;241m*\u001b[39mkwargs)\n\u001b[1;32m   1216\u001b[0m \u001b[38;5;28mself\u001b[39m\u001b[38;5;241m.\u001b[39mdisconnect()\n\u001b[0;32m-> 1217\u001b[0m \u001b[38;5;28;43mself\u001b[39;49m\u001b[38;5;241;43m.\u001b[39;49m\u001b[43m_open_connection\u001b[49m\u001b[43m(\u001b[49m\u001b[43m)\u001b[49m\n\u001b[1;32m   1218\u001b[0m \u001b[38;5;66;03m# Server does not allow to run any other statement different from ALTER\u001b[39;00m\n\u001b[1;32m   1219\u001b[0m \u001b[38;5;66;03m# when user's password has been expired.\u001b[39;00m\n\u001b[1;32m   1220\u001b[0m \u001b[38;5;28;01mif\u001b[39;00m \u001b[38;5;129;01mnot\u001b[39;00m \u001b[38;5;28mself\u001b[39m\u001b[38;5;241m.\u001b[39m_client_flags \u001b[38;5;241m&\u001b[39m ClientFlag\u001b[38;5;241m.\u001b[39mCAN_HANDLE_EXPIRED_PASSWORDS:\n",
      "File \u001b[0;32m/opt/conda/lib/python3.10/site-packages/mysql/connector/connection_cext.py:307\u001b[0m, in \u001b[0;36mCMySQLConnection._open_connection\u001b[0;34m(self)\u001b[0m\n\u001b[1;32m    305\u001b[0m         \u001b[38;5;28mself\u001b[39m\u001b[38;5;241m.\u001b[39mconverter\u001b[38;5;241m.\u001b[39mstr_fallback \u001b[38;5;241m=\u001b[39m \u001b[38;5;28mself\u001b[39m\u001b[38;5;241m.\u001b[39m_converter_str_fallback\n\u001b[1;32m    306\u001b[0m \u001b[38;5;28;01mexcept\u001b[39;00m MySQLInterfaceError \u001b[38;5;28;01mas\u001b[39;00m err:\n\u001b[0;32m--> 307\u001b[0m     \u001b[38;5;28;01mraise\u001b[39;00m get_mysql_exception(\n\u001b[1;32m    308\u001b[0m         msg\u001b[38;5;241m=\u001b[39merr\u001b[38;5;241m.\u001b[39mmsg, errno\u001b[38;5;241m=\u001b[39merr\u001b[38;5;241m.\u001b[39merrno, sqlstate\u001b[38;5;241m=\u001b[39merr\u001b[38;5;241m.\u001b[39msqlstate\n\u001b[1;32m    309\u001b[0m     ) \u001b[38;5;28;01mfrom\u001b[39;00m \u001b[38;5;21;01merr\u001b[39;00m\n\u001b[1;32m    311\u001b[0m \u001b[38;5;28mself\u001b[39m\u001b[38;5;241m.\u001b[39m_do_handshake()\n",
      "\u001b[0;31mDatabaseError\u001b[0m: 2005 (HY000): Unknown MySQL server host 'your_host' (-3)"
     ]
    }
   ],
   "source": [
    "import mysql.connector\n",
    "\n",
    "# Establish a connection to the MySQL server\n",
    "conn = mysql.connector.connect(\n",
    "    host=\"your_host\",\n",
    "    user=\"your_username\",\n",
    "    password=\"your_password\",\n",
    "    database=\"your_database\"\n",
    ")\n",
    "\n",
    "# Create a cursor object to interact with the database\n",
    "cursor = conn.cursor()\n",
    "\n",
    "# Execute SQL queries using the execute() method\n",
    "\n",
    "# Example 1: Creating a table\n",
    "create_table_query = \"\"\"\n",
    "CREATE TABLE IF NOT EXISTS employees (\n",
    "    id INT AUTO_INCREMENT PRIMARY KEY,\n",
    "    first_name VARCHAR(50),\n",
    "    last_name VARCHAR(50),\n",
    "    hire_date DATE\n",
    ")\n",
    "\"\"\"\n",
    "cursor.execute(create_table_query)\n",
    "print(\"Table 'employees' created or already exists.\")\n",
    "\n",
    "# Example 2: Inserting data\n",
    "insert_data_query = \"\"\"\n",
    "INSERT INTO employees (first_name, last_name, hire_date)\n",
    "VALUES (%s, %s, %s)\n",
    "\"\"\"\n",
    "employee_data = (\"John\", \"Doe\", \"2023-10-15\")\n",
    "cursor.execute(insert_data_query, employee_data)\n",
    "conn.commit()\n",
    "print(\"Data inserted successfully.\")\n",
    "\n",
    "# Example 3: Retrieving data\n",
    "select_data_query = \"SELECT * FROM employees\"\n",
    "cursor.execute(select_data_query)\n",
    "result = cursor.fetchall()\n",
    "for row in result:\n",
    "    print(row)\n",
    "\n",
    "# Close the cursor and the database connection\n",
    "cursor.close()\n",
    "conn.close()\n"
   ]
  },
  {
   "cell_type": "code",
   "execution_count": null,
   "id": "61882430-5743-4d42-8dfc-9ce7bb9965da",
   "metadata": {},
   "outputs": [],
   "source": []
  },
  {
   "cell_type": "code",
   "execution_count": null,
   "id": "74ce2333-78cd-48a4-adaa-a511e719ffc8",
   "metadata": {},
   "outputs": [],
   "source": []
  }
 ],
 "metadata": {
  "kernelspec": {
   "display_name": "Python 3 (ipykernel)",
   "language": "python",
   "name": "python3"
  },
  "language_info": {
   "codemirror_mode": {
    "name": "ipython",
    "version": 3
   },
   "file_extension": ".py",
   "mimetype": "text/x-python",
   "name": "python",
   "nbconvert_exporter": "python",
   "pygments_lexer": "ipython3",
   "version": "3.10.8"
  }
 },
 "nbformat": 4,
 "nbformat_minor": 5
}
